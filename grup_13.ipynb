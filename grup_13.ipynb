{
 "cells": [
  {
   "cell_type": "code",
   "execution_count": 1,
   "id": "29464da2",
   "metadata": {},
   "outputs": [],
   "source": [
    "#Projede kulanacağımız kütüphaneleri yüklüyoruz\n",
    "\n",
    "import numpy as np\n",
    "import pandas as pd\n",
    "import matplotlib.pyplot as plt\n",
    "import cv2\n",
    "import os\n",
    "import PIL\n",
    "import pathlib\n",
    "\n",
    "from sklearn.model_selection import train_test_split\n",
    "import tensorflow as tf\n",
    "from tensorflow import keras\n",
    "from tensorflow.keras.models import Sequential\n",
    "from tensorflow.keras.layers import Conv2D,Dense,Dropout, Flatten,Activation, BatchNormalization,MaxPooling2D\n",
    "from tensorflow.keras import datasets, layers, models\n",
    "from tensorflow.keras.preprocessing.image import load_img\n",
    "from tensorflow.keras.preprocessing.image import img_to_array"
   ]
  },
  {
   "cell_type": "code",
   "execution_count": 2,
   "id": "02c6467c",
   "metadata": {},
   "outputs": [],
   "source": [
    "#Veri setimizin yolunu verdik\n",
    "data_dir = pathlib.Path(r\"C:\\Users\\Said Akca\\Desktop\\kagglecatsanddogs_3367a\\PetImages\")"
   ]
  },
  {
   "cell_type": "code",
   "execution_count": 3,
   "id": "e236bd0a",
   "metadata": {},
   "outputs": [],
   "source": [
    "#Kedi ve Köpek dosyalarının içindeki dosyaları aldık\n",
    "\n",
    "dogs = list(data_dir.glob('Dog/*'))"
   ]
  },
  {
   "cell_type": "code",
   "execution_count": 4,
   "id": "1ff65792",
   "metadata": {},
   "outputs": [],
   "source": [
    "cats = list(data_dir.glob('Cat/*'))"
   ]
  },
  {
   "cell_type": "code",
   "execution_count": 5,
   "id": "08849147",
   "metadata": {},
   "outputs": [],
   "source": [
    "image_count = len(list(data_dir.glob('*/*.jpg')))"
   ]
  },
  {
   "cell_type": "code",
   "execution_count": 6,
   "id": "1086b804",
   "metadata": {},
   "outputs": [
    {
     "data": {
      "text/plain": [
       "10000"
      ]
     },
     "execution_count": 6,
     "metadata": {},
     "output_type": "execute_result"
    }
   ],
   "source": [
    "\n",
    "#2 sınıftan toplam veri adedi\n",
    "image_count"
   ]
  },
  {
   "cell_type": "code",
   "execution_count": 7,
   "id": "dc51627c",
   "metadata": {},
   "outputs": [],
   "source": [
    "#Verileri labellaştırdık \n",
    "\n",
    "pet_images_dict = {\n",
    "    'cats': list(data_dir.glob('Cat/*')),\n",
    "    'dogs': list(data_dir.glob('Dog/*')),\n",
    "}\n",
    "\n",
    "pet_labels_dict = {\n",
    "    'cats': 0,\n",
    "    'dogs': 1,\n",
    "}"
   ]
  },
  {
   "cell_type": "code",
   "execution_count": 8,
   "id": "05f8f8f3",
   "metadata": {},
   "outputs": [
    {
     "name": "stdout",
     "output_type": "stream",
     "text": [
      "cats\n",
      "dogs\n"
     ]
    }
   ],
   "source": [
    "#Resimlerin hepsini aynı boyuta getirdik\n",
    "\n",
    "IMAGE_WIDTH=150\n",
    "IMAGE_HEIGHT=150\n",
    "X, Y = [], []\n",
    "\n",
    "for pet_name, images in pet_images_dict.items():\n",
    "    print(pet_name)\n",
    "    for image in images:\n",
    "        img = cv2.imread(str(image))\n",
    "        if isinstance(img,type(None)): \n",
    "            continue\n",
    "            \n",
    "        elif ((img.shape[0] >= IMAGE_HEIGHT) and  (img.shape[1] >=IMAGE_WIDTH)):\n",
    "            resized_img = cv2.resize(img,(IMAGE_WIDTH,IMAGE_HEIGHT))\n",
    "            X.append(resized_img)\n",
    "            Y.append(pet_labels_dict[pet_name])\n",
    "        else:\n",
    "            continue"
   ]
  },
  {
   "cell_type": "code",
   "execution_count": 9,
   "id": "61ab6ab9",
   "metadata": {},
   "outputs": [],
   "source": [
    "#Çıktıları numpy array dönüştürdük\n",
    "\n",
    "X = np.array(X)\n",
    "Y = np.array(Y)"
   ]
  },
  {
   "cell_type": "code",
   "execution_count": 10,
   "id": "e3725c78",
   "metadata": {},
   "outputs": [],
   "source": [
    "#Normalizasyon işlemini gerçekleştirdik\n",
    "X= X/255"
   ]
  },
  {
   "cell_type": "code",
   "execution_count": 11,
   "id": "54dfb7e4",
   "metadata": {},
   "outputs": [],
   "source": [
    "#veriler train test val olarak ayırdık\n",
    "X_train, X_test, Y_train, Y_test = train_test_split(X, Y, random_state=42)\n",
    "X_train, X_val, Y_train, Y_val = train_test_split(X_train, Y_train, random_state=42)"
   ]
  },
  {
   "cell_type": "code",
   "execution_count": 12,
   "id": "f77316bd",
   "metadata": {},
   "outputs": [],
   "source": [
    "#Transfer Learning olarak vgg 19 modelini seçtik\n",
    "\n",
    "vgg19 = tf.keras.applications.VGG19(\n",
    "    include_top = False, \n",
    "    weights = 'imagenet', \n",
    "    input_tensor = None,\n",
    "    input_shape = (150,150,3), \n",
    "    pooling = None, \n",
    "    classes = 1000\n",
    ")"
   ]
  },
  {
   "cell_type": "code",
   "execution_count": 13,
   "id": "86c098a6",
   "metadata": {},
   "outputs": [],
   "source": [
    "vgg19.trainable = False"
   ]
  },
  {
   "cell_type": "code",
   "execution_count": 30,
   "id": "e469b9a7",
   "metadata": {},
   "outputs": [],
   "source": [
    "model_vgg = tf.keras.models.Sequential([\n",
    "    \n",
    "    vgg19,\n",
    "    tf.keras.layers.Conv2D(128, kernel_size = (3, 3), padding = 'same'),\n",
    "    tf.keras.layers.PReLU(alpha_initializer='zeros'),# modifying final layers of VGG-19\n",
    "    tf.keras.layers.Conv2D(64, kernel_size = (3, 3), padding = 'same'),\n",
    "    tf.keras.layers.PReLU(alpha_initializer='zeros'),\n",
    "    tf.keras.layers.Flatten(),\n",
    "    tf.keras.layers.Dense(100),\n",
    "    tf.keras.layers.Dropout(0.5),\n",
    "    tf.keras.layers.PReLU(alpha_initializer='zeros'),\n",
    "    tf.keras.layers.Dense(1, activation = 'sigmoid')\n",
    "])"
   ]
  },
  {
   "cell_type": "code",
   "execution_count": 31,
   "id": "f8c300bd",
   "metadata": {},
   "outputs": [],
   "source": [
    "import tensorflow_addons as tfa"
   ]
  },
  {
   "cell_type": "code",
   "execution_count": 32,
   "id": "15caf48d",
   "metadata": {},
   "outputs": [],
   "source": [
    "metrics = ['accuracy']"
   ]
  },
  {
   "cell_type": "code",
   "execution_count": 33,
   "id": "05e4e216",
   "metadata": {},
   "outputs": [
    {
     "name": "stdout",
     "output_type": "stream",
     "text": [
      "Model: \"sequential_1\"\n",
      "_________________________________________________________________\n",
      " Layer (type)                Output Shape              Param #   \n",
      "=================================================================\n",
      " vgg19 (Functional)          (None, 4, 4, 512)         20024384  \n",
      "                                                                 \n",
      " conv2d_2 (Conv2D)           (None, 4, 4, 128)         589952    \n",
      "                                                                 \n",
      " p_re_lu_3 (PReLU)           (None, 4, 4, 128)         2048      \n",
      "                                                                 \n",
      " conv2d_3 (Conv2D)           (None, 4, 4, 64)          73792     \n",
      "                                                                 \n",
      " p_re_lu_4 (PReLU)           (None, 4, 4, 64)          1024      \n",
      "                                                                 \n",
      " flatten_1 (Flatten)         (None, 1024)              0         \n",
      "                                                                 \n",
      " dense_2 (Dense)             (None, 100)               102500    \n",
      "                                                                 \n",
      " dropout (Dropout)           (None, 100)               0         \n",
      "                                                                 \n",
      " p_re_lu_5 (PReLU)           (None, 100)               100       \n",
      "                                                                 \n",
      " dense_3 (Dense)             (None, 1)                 101       \n",
      "                                                                 \n",
      "=================================================================\n",
      "Total params: 20,793,901\n",
      "Trainable params: 769,517\n",
      "Non-trainable params: 20,024,384\n",
      "_________________________________________________________________\n"
     ]
    }
   ],
   "source": [
    "#optimizer ve loss fonksiyonu seçtim\n",
    "model_vgg.compile(loss = 'binary_crossentropy', optimizer = 'adam', metrics = metrics)\n",
    "model_vgg.summary()"
   ]
  },
  {
   "cell_type": "code",
   "execution_count": 34,
   "id": "58730b51",
   "metadata": {},
   "outputs": [],
   "source": [
    "y_train = np.asarray(Y_train).astype('float32').reshape((-1,1))\n",
    "y_test = np.asarray(Y_test).astype('float32').reshape((-1,1))"
   ]
  },
  {
   "cell_type": "code",
   "execution_count": 35,
   "id": "9192004f",
   "metadata": {},
   "outputs": [],
   "source": [
    "Y_val=np.asarray(Y_val).astype('float32').reshape((-1,1))"
   ]
  },
  {
   "cell_type": "code",
   "execution_count": null,
   "id": "da46d146",
   "metadata": {},
   "outputs": [],
   "source": []
  },
  {
   "cell_type": "code",
   "execution_count": 36,
   "id": "92380666",
   "metadata": {},
   "outputs": [
    {
     "name": "stdout",
     "output_type": "stream",
     "text": [
      "Epoch 1/20\n",
      "174/174 [==============================] - 16s 87ms/step - loss: 0.3894 - accuracy: 0.8227 - val_loss: 0.3076 - val_accuracy: 0.8657\n",
      "Epoch 2/20\n",
      "174/174 [==============================] - 15s 84ms/step - loss: 0.2809 - accuracy: 0.8786 - val_loss: 0.2837 - val_accuracy: 0.8786\n",
      "Epoch 3/20\n",
      "174/174 [==============================] - 15s 84ms/step - loss: 0.2320 - accuracy: 0.9015 - val_loss: 0.3417 - val_accuracy: 0.8560\n",
      "Epoch 4/20\n",
      "174/174 [==============================] - 15s 84ms/step - loss: 0.1885 - accuracy: 0.9238 - val_loss: 0.3435 - val_accuracy: 0.8706\n",
      "Epoch 5/20\n",
      "174/174 [==============================] - 15s 85ms/step - loss: 0.1714 - accuracy: 0.9310 - val_loss: 0.2998 - val_accuracy: 0.8862\n",
      "Epoch 6/20\n",
      "174/174 [==============================] - 15s 84ms/step - loss: 0.1297 - accuracy: 0.9495 - val_loss: 0.3447 - val_accuracy: 0.8808\n",
      "Epoch 7/20\n",
      "174/174 [==============================] - 15s 85ms/step - loss: 0.1142 - accuracy: 0.9572 - val_loss: 0.4029 - val_accuracy: 0.8792\n",
      "Epoch 8/20\n",
      "174/174 [==============================] - 15s 85ms/step - loss: 0.0725 - accuracy: 0.9698 - val_loss: 0.4783 - val_accuracy: 0.8587\n",
      "Epoch 9/20\n",
      "174/174 [==============================] - 15s 85ms/step - loss: 0.0633 - accuracy: 0.9781 - val_loss: 0.4534 - val_accuracy: 0.8700\n",
      "Epoch 10/20\n",
      "174/174 [==============================] - 15s 85ms/step - loss: 0.0468 - accuracy: 0.9829 - val_loss: 0.8164 - val_accuracy: 0.8533\n",
      "Epoch 11/20\n",
      "174/174 [==============================] - 15s 85ms/step - loss: 0.0574 - accuracy: 0.9763 - val_loss: 0.5813 - val_accuracy: 0.8700\n",
      "Epoch 12/20\n",
      "174/174 [==============================] - 15s 85ms/step - loss: 0.0370 - accuracy: 0.9860 - val_loss: 0.7267 - val_accuracy: 0.8657\n",
      "Epoch 13/20\n",
      "174/174 [==============================] - 15s 87ms/step - loss: 0.0282 - accuracy: 0.9905 - val_loss: 0.6805 - val_accuracy: 0.8679\n",
      "Epoch 14/20\n",
      "174/174 [==============================] - 15s 85ms/step - loss: 0.0287 - accuracy: 0.9894 - val_loss: 0.7640 - val_accuracy: 0.8732\n",
      "Epoch 15/20\n",
      "174/174 [==============================] - 15s 85ms/step - loss: 0.0291 - accuracy: 0.9889 - val_loss: 0.6980 - val_accuracy: 0.8770\n",
      "Epoch 16/20\n",
      "174/174 [==============================] - 15s 85ms/step - loss: 0.0216 - accuracy: 0.9914 - val_loss: 0.7392 - val_accuracy: 0.8625\n",
      "Epoch 17/20\n",
      "174/174 [==============================] - 15s 85ms/step - loss: 0.0136 - accuracy: 0.9951 - val_loss: 0.8922 - val_accuracy: 0.8716\n",
      "Epoch 18/20\n",
      "174/174 [==============================] - 15s 85ms/step - loss: 0.0220 - accuracy: 0.9903 - val_loss: 0.8153 - val_accuracy: 0.8635\n",
      "Epoch 19/20\n",
      "174/174 [==============================] - 15s 85ms/step - loss: 0.0190 - accuracy: 0.9933 - val_loss: 1.0367 - val_accuracy: 0.8571\n",
      "Epoch 20/20\n",
      "174/174 [==============================] - 15s 85ms/step - loss: 0.0333 - accuracy: 0.9880 - val_loss: 0.9786 - val_accuracy: 0.8511\n"
     ]
    }
   ],
   "source": [
    "#Model fit\n",
    "history_vgg = model_vgg.fit(\n",
    "    X_train,y_train,\n",
    "    epochs = 20,\n",
    "    validation_data = (X_val, Y_val),\n",
    "    batch_size=32,\n",
    "    verbose = 1)"
   ]
  },
  {
   "cell_type": "code",
   "execution_count": 37,
   "id": "ecadef15",
   "metadata": {},
   "outputs": [],
   "source": [
    "#Graifk çizimleri\n",
    "acc = history_vgg.history['accuracy']\n",
    "val_acc = history_vgg.history['val_accuracy']\n",
    "loss = history_vgg.history['loss']\n",
    "val_loss = history_vgg.history['val_loss']"
   ]
  },
  {
   "cell_type": "code",
   "execution_count": 38,
   "id": "82a0a7cf",
   "metadata": {},
   "outputs": [
    {
     "data": {
      "text/plain": [
       "<matplotlib.legend.Legend at 0x2498b2467d0>"
      ]
     },
     "execution_count": 38,
     "metadata": {},
     "output_type": "execute_result"
    },
    {
     "data": {
      "image/png": "[encoded data removed]",
      "text/plain": [
       "<Figure size 864x864 with 1 Axes>"
      ]
     },
     "metadata": {
      "needs_background": "light"
     },
     "output_type": "display_data"
    }
   ],
   "source": [
    "plt.figure(figsize=(12,12))\n",
    "epochs = range(len(acc))\n",
    "plt.plot(epochs, acc, 'r', label = 'Training accuracy')\n",
    "plt.plot(epochs, val_acc, 'b', label = 'Validation accuracy')\n",
    "plt.title('Training & validation accuracy')\n",
    "plt.legend()"
   ]
  },
  {
   "cell_type": "code",
   "execution_count": 39,
   "id": "24e1edef",
   "metadata": {},
   "outputs": [
    {
     "data": {
      "image/png": "[encoded data removed]",
      "text/plain": [
       "<Figure size 864x864 with 1 Axes>"
      ]
     },
     "metadata": {
      "needs_background": "light"
     },
     "output_type": "display_data"
    }
   ],
   "source": [
    "plt.figure(figsize = (12,12))\n",
    "\n",
    "plt.plot(epochs, loss, 'r', label = 'Training Loss')\n",
    "plt.plot(epochs, val_loss, 'b', label = 'Validation Loss')\n",
    "plt.title('Training $ validation loss')\n",
    "plt.legend()\n",
    "\n",
    "plt.show()"
   ]
  },
  {
   "cell_type": "code",
   "execution_count": 40,
   "id": "5a479c1c",
   "metadata": {},
   "outputs": [
    {
     "name": "stdout",
     "output_type": "stream",
     "text": [
      "78/78 [==============================] - 5s 63ms/step - loss: 1.1148 - accuracy: 0.8394\n"
     ]
    },
    {
     "data": {
      "text/plain": [
       "[1.114770531654358, 0.8394013047218323]"
      ]
     },
     "execution_count": 40,
     "metadata": {},
     "output_type": "execute_result"
    }
   ],
   "source": [
    "\n",
    "#Modelin test doğruluğu\n",
    "model_vgg.evaluate(X_test, y_test)"
   ]
  },
  {
   "cell_type": "code",
   "execution_count": null,
   "id": "1af4d0b5",
   "metadata": {},
   "outputs": [],
   "source": []
  },
  {
   "cell_type": "code",
   "execution_count": null,
   "id": "6c207913",
   "metadata": {},
   "outputs": [],
   "source": []
  },
  {
   "cell_type": "code",
   "execution_count": null,
   "id": "27c00b1d",
   "metadata": {},
   "outputs": [],
   "source": []
  },
  {
   "cell_type": "code",
   "execution_count": null,
   "id": "dc63fb2a",
   "metadata": {},
   "outputs": [],
   "source": []
  },
  {
   "cell_type": "code",
   "execution_count": null,
   "id": "405cc75c",
   "metadata": {},
   "outputs": [],
   "source": []
  },
  {
   "cell_type": "code",
   "execution_count": null,
   "id": "9d52fb96",
   "metadata": {},
   "outputs": [],
   "source": []
  }
 ],
 "metadata": {
  "kernelspec": {
   "display_name": "Python 3 (ipykernel)",
   "language": "python",
   "name": "python3"
  },
  "language_info": {
   "codemirror_mode": {
    "name": "ipython",
    "version": 3
   },
   "file_extension": ".py",
   "mimetype": "text/x-python",
   "name": "python",
   "nbconvert_exporter": "python",
   "pygments_lexer": "ipython3",
   "version": "3.10.4"
  }
 },
 "nbformat": 4,
 "nbformat_minor": 5
}
